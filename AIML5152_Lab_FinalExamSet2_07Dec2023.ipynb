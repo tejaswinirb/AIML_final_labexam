{
  "cells": [
    {
      "cell_type": "markdown",
      "metadata": {
        "id": "6Nf8ObykUT-r"
      },
      "source": [
        "Reg Num:  ______231057019\n",
        "_________________"
      ]
    },
    {
      "cell_type": "markdown",
      "metadata": {
        "id": "W44Xm0ShUT-u"
      },
      "source": [
        "---\n",
        "$$\\color{orange}{AML\\ 5152\\,\\lvert\\, Applied\\ Machine\\ Learning\\,\\lvert\\,Lab\\ Final\\,\\lvert\\,Odd\\ Semester\\ 2023}$$\n",
        "---\n",
        "\n",
        "**Instructions:**\n",
        "1. Fill the reg num at the top of this notebook\n",
        "2. When a code template is provided, you have to fill the code template. You should not replace the code template with different code from elsewhere\n",
        "3. Upload your Jupyter notebook with all its outputs intact here: https://tinyurl.com/tckf29w4\n",
        "4. Do not solicit inputs from others. Plagiarism check will be performed after the exam\n",
        "5. You will be orally asked why you did each design choice along the way. If you cannot defend your choice, then some marks will be deducted"
      ]
    },
    {
      "cell_type": "markdown",
      "metadata": {
        "id": "e1y6ZglIUT-v"
      },
      "source": [
        "### **Problem Statement**\n",
        "\n",
        "**PS: DO NOT FORGET TO TRAIN-TEST SPLIT AT AN APPROPRIATE TIME IN THE ENTIRE FLOW**.\n",
        "\n",
        "You decide where you want to position the train test split in the stages below\n",
        "\n",
        "#### I. Create a pandas dataset for apples satisfying the following constraints:\n",
        "1. Datset should have six columns - weight, volume, pesticide per apple, discoloration, machine_plucked and apple_type and 100 records with 70 Gala apples, 15 Fuji apples and 15 Red apples\n",
        "2. Apple type is a target variable. Remaining are predictor variables.\n",
        "3. There are 3 apple types: Gala, Fuji, Red.\n",
        "4. Machine Plucked is either yes or no.\n",
        "5. Simulate the data randomly such that subsequent simulations produce very similar or identical data\n",
        "6. Simulate the data for the 3 types of apples according to the following rules:\n",
        "\t* Gala apple weights are normally distributed with mean of 155 g and a standard deviation of 5 g.\n",
        "\t* Fuji apple weights are uniformly distributed between 200 and 250 gram\n",
        "\t* Red apple weights are distributed according to triangular distribution with minimum weight of 100g, maximum weight of 190 g and the most frequent weight being 170g\n",
        "7. Apple volumes are normally distributed for the three apple types Gala, Fuji and Red with a mean of 187cc, 270cc and 150cc respectively and variance of 25cc respectively\n",
        "8. A pesticide Quinalphos was dissolved in water and sprayed at the rate of 500 gm per 100 apples. The spray was unequal and had a variance of 4 milligram per apple. This pestiside dosage is common to all three apple types. This data will be used to populate \"pesticide per apple\" feature\n",
        "9. Discoloration of the apple is equal to the percentile of the pesticide per apple\n",
        "\n",
        "#### II. Introduce NaNs\n",
        "1. Randomly introduce NaN for weight and volume feature for 25% of the records such that the **fraction of NaN for each apple type is proportional to the ratio of samples**.\n",
        "2. Pesticide_per_apple data should be randomly nulled out for data beyond 75th percentile\n",
        "3. Randomly introduce NaN for machine plucked apples for 5% of records\n",
        "4. Randomly introduce NaN for apple type for 10% of records\n",
        "\n",
        "#### III Transform, Train/Test Split and Impute\n",
        "Ask yourself these questions and do accordingly:\n",
        "1. Will you do train test split before or after doing train test split?\n",
        "2. Will you do transformation after imputation or before?\n",
        "3. Will you do split before transformation?\n",
        "\n",
        "According to your choice do these three in the order you deem fit\n",
        "\n",
        "1. Impute the data for relevant columns using an appropriate imputation method fit for each scenario\n",
        "2. If there are any records that you feel should be deleted, then please do so\n",
        "3. Do a train test split 80:20 such that the fraction of NaN for each apple type is proportional to the ratio of samples of that apple type\n",
        "4. Do any other data transformation you feel is needed\n",
        "\n",
        "#### IV Feature Elimination and Feature Selection\n",
        "1. If there are any features that you can immediately drop without any exploration, programming then please do so first\n",
        "2. Check which features have highest predictive power wrt target variable\n",
        "3. Check features on which target is dependent. Use a mechanism that is different from previous method for this.\n",
        "4. Base on the above two checks, choose 2 features for predicting apple type\n",
        "\n",
        "#### V ML Prediction\n",
        "1. Apply Logistic Regression to predict apple type\n",
        "2. Choose a  metric that you think is most suitable for this scenario"
      ]
    },
    {
      "cell_type": "code",
      "execution_count": null,
      "metadata": {
        "id": "ilNQ1CMRUT-v"
      },
      "outputs": [],
      "source": [
        "from math import sqrt\n",
        "\n",
        "import numpy as np\n",
        "import pandas as pd\n",
        "\n",
        "np.random.seed(42)"
      ]
    },
    {
      "cell_type": "markdown",
      "metadata": {
        "id": "UvhGiC0uUT-x"
      },
      "source": [
        "---\n",
        "\n",
        "#### I. Create a pandas dataset for apples satisfying the following constraints:\n",
        "1. Datset should have six columns - weight, volume, pesticide per apple, discoloration, machine_plucked and apple_type and 200 records with 70 Gala apples, 15 Fuji apples and 15 Red apples\n",
        "2. Apple type is a target variable. Remaining are predictor variables.\n",
        "3. There are 3 apple types: Gala, Fuji, Red."
      ]
    },
    {
      "cell_type": "code",
      "execution_count": null,
      "metadata": {
        "id": "jkunyUlpUT-x"
      },
      "outputs": [],
      "source": [
        "total_records = 200\n",
        "apple_types = [\"Gala\", \"Fuji\", \"Red\"]\n",
        "apple_ratios = (0.7, 0.15, 0.15)"
      ]
    },
    {
      "cell_type": "code",
      "source": [
        "# Set random seed for reproducibility\n",
        "np.random.seed(42)\n",
        "\n",
        "# Function to generate random data for each apple type\n",
        "def generate_apple_data(num_records, apple_type):\n",
        "    weights = np.random.uniform(120, 200, num_records)\n",
        "    volumes = np.random.uniform(150, 250, num_records)\n",
        "    pesticides = np.random.uniform(0, 0.5, num_records)\n",
        "    discolorations = np.random.uniform(0, 1, num_records)\n",
        "    machine_plucked = np.random.choice([0, 1], size=num_records, p=[0.4, 0.6])\n",
        "\n",
        "    data = {\n",
        "        'weight': weights,\n",
        "        'volume': volumes,\n",
        "        'pesticide_per_apple': pesticides,\n",
        "        'discoloration': discolorations,\n",
        "        'machine_plucked': machine_plucked,\n",
        "        'apple_type': [apple_type] * num_records\n",
        "    }\n",
        "\n",
        "    return data\n",
        "\n",
        "# Generate data for Gala apples\n",
        "gala_data = generate_apple_data(70, 'Gala')\n",
        "\n",
        "# Generate data for Fuji apples\n",
        "fuji_data = generate_apple_data(15, 'Fuji')\n",
        "\n",
        "# Generate data for Red apples\n",
        "red_data = generate_apple_data(15, 'Red')\n",
        "\n",
        "# Combine data for all apple types using concat\n",
        "apples_data = pd.concat([pd.DataFrame(gala_data), pd.DataFrame(fuji_data), pd.DataFrame(red_data)], ignore_index=True)\n",
        "\n",
        "# Shuffle the dataset\n",
        "apples_data = apples_data.sample(frac=1, random_state=42).reset_index(drop=True)\n",
        "\n",
        "# Display the first few rows of the dataset\n",
        "print(apples_data.head())\n"
      ],
      "metadata": {
        "colab": {
          "base_uri": "https://localhost:8080/"
        },
        "id": "KycjX287alPG",
        "outputId": "2a473b5e-42ba-4d47-a80a-526373c78687"
      },
      "execution_count": null,
      "outputs": [
        {
          "output_type": "stream",
          "name": "stdout",
          "text": [
            "       weight      volume  pesticide_per_apple  discoloration  \\\n",
            "0  163.649343  231.446848             0.388206       0.905382   \n",
            "1  191.586188  161.005192             0.316551       0.518330   \n",
            "2  160.250901  188.610264             0.059082       0.930757   \n",
            "3  173.001783  237.146059             0.329992       0.556801   \n",
            "4  140.702399  213.340376             0.128971       0.169493   \n",
            "\n",
            "   machine_plucked apple_type  \n",
            "0                1       Fuji  \n",
            "1                0       Gala  \n",
            "2                0       Fuji  \n",
            "3                1       Gala  \n",
            "4                1       Gala  \n"
          ]
        }
      ]
    },
    {
      "cell_type": "markdown",
      "metadata": {
        "id": "y4bhx6xbUT-x"
      },
      "source": [
        "4. Machine Plucked is either yes or no."
      ]
    },
    {
      "cell_type": "code",
      "execution_count": null,
      "metadata": {
        "colab": {
          "base_uri": "https://localhost:8080/"
        },
        "id": "DX8Dhur5UT-y",
        "outputId": "007c6c5a-8f40-442c-cd52-31e52d16cc5e"
      },
      "outputs": [
        {
          "output_type": "execute_result",
          "data": {
            "text/plain": [
              "array(['No', 'Yes', 'Yes', 'Yes', 'Yes', 'No', 'Yes', 'No', 'Yes', 'No',\n",
              "       'No', 'No', 'Yes', 'Yes', 'Yes', 'No', 'No', 'No', 'Yes', 'No',\n",
              "       'No', 'Yes', 'Yes', 'No', 'No', 'No', 'Yes', 'No', 'Yes', 'Yes',\n",
              "       'Yes', 'No', 'No', 'No', 'Yes', 'No', 'Yes', 'No', 'Yes', 'Yes',\n",
              "       'Yes', 'Yes', 'No', 'No', 'Yes', 'No', 'Yes', 'No', 'No', 'No',\n",
              "       'Yes', 'No', 'No', 'Yes', 'Yes', 'No', 'No', 'No', 'No', 'No',\n",
              "       'Yes', 'Yes', 'Yes', 'No', 'Yes', 'No', 'No', 'No', 'Yes', 'No',\n",
              "       'Yes', 'No', 'Yes', 'Yes', 'No', 'Yes', 'Yes', 'No', 'No', 'No',\n",
              "       'No', 'No', 'Yes', 'Yes', 'Yes', 'No', 'No', 'Yes', 'Yes', 'No',\n",
              "       'Yes', 'No', 'No', 'No', 'Yes', 'No', 'No', 'No', 'No', 'No', 'No',\n",
              "       'Yes', 'No', 'No', 'Yes', 'No', 'No', 'No', 'Yes', 'Yes', 'No',\n",
              "       'No', 'Yes', 'No', 'No', 'No', 'No', 'Yes', 'Yes', 'Yes', 'No',\n",
              "       'Yes', 'Yes', 'Yes', 'No', 'No', 'Yes', 'Yes', 'No', 'Yes', 'Yes',\n",
              "       'Yes', 'Yes', 'Yes', 'Yes', 'Yes', 'No', 'Yes', 'No', 'No', 'Yes',\n",
              "       'No', 'Yes', 'No', 'Yes', 'Yes', 'Yes', 'No', 'No', 'No', 'Yes',\n",
              "       'No', 'Yes', 'No', 'Yes', 'Yes', 'Yes', 'Yes', 'No', 'Yes', 'No',\n",
              "       'Yes', 'No', 'Yes', 'Yes', 'No', 'Yes', 'Yes', 'No', 'No', 'Yes',\n",
              "       'Yes', 'No', 'Yes', 'Yes', 'Yes', 'No', 'No', 'Yes', 'Yes', 'Yes',\n",
              "       'No', 'Yes', 'Yes', 'No', 'Yes', 'No', 'Yes', 'Yes', 'Yes', 'No',\n",
              "       'No', 'No', 'Yes', 'No', 'Yes', 'Yes', 'No', 'Yes', 'Yes'],\n",
              "      dtype='<U3')"
            ]
          },
          "metadata": {},
          "execution_count": 14
        }
      ],
      "source": [
        "machine_plucked = np.random.choice(['Yes', 'No'], total_records, p=[0.5, 0.5])\n",
        "machine_plucked"
      ]
    },
    {
      "cell_type": "markdown",
      "metadata": {
        "id": "YKne7sr7UT-y"
      },
      "source": [
        "**Simulate Gala apples**\n",
        "\n",
        "1. Gala apple weights are normally distributed with mean of 155 g and a standard deviation of 5 g.\n",
        "2. Gala apple volumes are normally distributed with mean of 187 cc and variance of 25 cc $^2$\n",
        "\n",
        "**Note: Check if the np.random functions accept standard deviation or variance as arguments and accordingly adjust**  "
      ]
    },
    {
      "cell_type": "code",
      "execution_count": null,
      "metadata": {
        "id": "8AEV990xUT-z"
      },
      "outputs": [],
      "source": [
        "from enum import Enum\n",
        "class Gala(Enum):\n",
        "    apple_ratio = 0.7\n",
        "\n",
        "    volume_avg = 187\n",
        "    volume_variance = 25\n",
        "\n",
        "    weight_mean = 155\n",
        "    weight_standard_dev = 5"
      ]
    },
    {
      "cell_type": "code",
      "execution_count": null,
      "metadata": {
        "colab": {
          "base_uri": "https://localhost:8080/"
        },
        "id": "aELa8AL_UT-z",
        "outputId": "9dc571ee-acd3-4505-afa3-3b2d77522d24"
      },
      "outputs": [
        {
          "output_type": "execute_result",
          "data": {
            "text/plain": [
              "array([199.01707793, 186.71190601, 188.00549523, 192.25327198,\n",
              "       192.52762966, 192.93515153, 190.19365111, 181.28497544,\n",
              "       195.16715766, 181.26827303, 188.51317733, 183.22862075,\n",
              "       186.67930827, 188.64381205, 188.60678608, 189.10960377,\n",
              "       195.06855635, 189.26767151, 185.77921682, 191.82043584,\n",
              "       192.94735244, 180.86196092, 189.98700035, 190.50586371,\n",
              "       185.51218248, 193.87853407, 186.24972206, 187.62788227,\n",
              "       186.13464088, 187.07789524, 181.51862457, 179.79974559,\n",
              "       194.97252532, 182.76519326, 182.04303825, 176.23304943,\n",
              "       183.80519126, 180.38455103, 195.2100758 , 192.04908545,\n",
              "       183.55924827, 198.26217903, 191.90882743, 185.37584308,\n",
              "       174.50297143, 198.45471286, 180.05213767, 178.77300627,\n",
              "       192.11285216, 199.19876203, 193.92136409, 189.8195456 ,\n",
              "       189.97377171, 191.26707779, 190.79464295, 188.40595712,\n",
              "       187.52100552, 186.68703436, 183.23017706, 185.59662462,\n",
              "       178.53521593, 186.50830187, 182.05704446, 181.48205341,\n",
              "       187.89947076, 193.96001143, 191.59158303, 179.14749698,\n",
              "       182.05185932, 191.70385594, 182.08756303, 185.87683425,\n",
              "       189.7502605 , 182.15827773, 187.52687753, 180.32987253,\n",
              "       183.99316178, 188.59890967, 179.03503133, 189.20237369,\n",
              "       186.90181101, 189.76244977, 188.11957067, 193.82070215,\n",
              "       187.62612251, 184.85297229, 187.61148752, 189.71649015,\n",
              "       187.24430035, 187.20295846, 183.49004156, 183.68549541,\n",
              "       179.98697364, 195.74788372, 180.78068382, 183.53547401,\n",
              "       183.40796367, 191.47462188, 185.52525161, 193.23871036,\n",
              "       183.63254688, 188.39497081, 182.82326473, 197.72574564,\n",
              "       181.0620079 , 188.54910355, 190.1688844 , 189.06899549,\n",
              "       186.07356171, 186.3508965 , 187.21905736, 186.26498999,\n",
              "       191.81939558, 198.05261501, 184.21254107, 180.1509851 ,\n",
              "       186.55858976, 199.89854669, 182.98162716, 195.19558403,\n",
              "       195.38850407, 184.23205879, 189.8449154 , 195.14198312,\n",
              "       185.1043613 , 185.9820982 , 184.09159543, 181.92621635,\n",
              "       183.75361227, 180.88029867, 187.17041734, 183.15013384,\n",
              "       188.16892956, 179.22052177, 188.65440116, 191.16764481,\n",
              "       177.03132179, 188.87028285, 193.13834496, 180.95179491])"
            ]
          },
          "metadata": {},
          "execution_count": 19
        }
      ],
      "source": [
        "gala_weights = np.random.normal(Gala.weight_mean.value,\n",
        "                                Gala.weight_standard_dev.value,\n",
        "                                int(Gala.apple_ratio.value * total_records))\n",
        "gala_weights\n",
        "\n",
        "gala_volumes = np.random.normal(size=int(Gala.apple_ratio.value * total_records),\n",
        "                                scale=np.sqrt(Gala.volume_variance.value),\n",
        "                                loc=Gala.volume_avg.value)\n",
        "gala_volumes\n"
      ]
    },
    {
      "cell_type": "markdown",
      "metadata": {
        "id": "gEb8Abv-UT-0"
      },
      "source": [
        "**Simulate Fuji apples**\n",
        "\n",
        "1. Fuji apple weights are uniformly distributed between 200 and 250 gram\n",
        "2. Fuji apple volumes are normally distributed with a mean os 270 cc and variance of 25 cc $^2$"
      ]
    },
    {
      "cell_type": "code",
      "execution_count": null,
      "metadata": {
        "colab": {
          "base_uri": "https://localhost:8080/"
        },
        "id": "2O4Rst_XUT-0",
        "outputId": "3b133dd8-5005-4cca-e8b5-cf7a53037b24"
      },
      "outputs": [
        {
          "output_type": "execute_result",
          "data": {
            "text/plain": [
              "{'apple_ratio': 0.15,\n",
              " 'volume_mean': 270,\n",
              " 'volume_variance': 25,\n",
              " 'weight_high': 250,\n",
              " 'weight_low': 200}"
            ]
          },
          "metadata": {},
          "execution_count": 21
        }
      ],
      "source": [
        "fuji_dict = {\n",
        "    \"apple_ratio\": 0.15,\n",
        "    \"volume_mean\": 270,\n",
        "    \"volume_variance\": 25,\n",
        "    \"weight_high\": 250,\n",
        "    \"weight_low\": 200\n",
        "}\n",
        "fuji_dict"
      ]
    },
    {
      "cell_type": "code",
      "execution_count": null,
      "metadata": {
        "colab": {
          "base_uri": "https://localhost:8080/"
        },
        "id": "qlkFmaGSUT-0",
        "outputId": "798ee87d-9573-465d-9122-f4434329734d"
      },
      "outputs": [
        {
          "output_type": "execute_result",
          "data": {
            "text/plain": [
              "array([270.74333729, 268.31457014, 266.93298668, 268.48765157,\n",
              "       268.05911591, 270.85208111, 270.80286991, 270.0152301 ,\n",
              "       272.18469085, 275.95323137, 274.74777068, 262.57551016,\n",
              "       257.23039433, 274.67159956, 263.16560651, 268.87617299,\n",
              "       264.14943487, 260.99009781, 272.70731364, 273.7957758 ,\n",
              "       267.117448  , 257.04478854, 267.26877776, 271.95902003,\n",
              "       262.60544216, 270.9167996 , 269.92345075, 272.8964575 ,\n",
              "       270.59790184, 265.1346553 ])"
            ]
          },
          "metadata": {},
          "execution_count": 23
        }
      ],
      "source": [
        "fuji_weights = np.random.uniform(size=int(fuji_dict[\"apple_ratio\"] * total_records),\n",
        "                                 high=fuji_dict[\"weight_high\"],\n",
        "                                 low=fuji_dict[\"weight_low\"])\n",
        "fuji_weights\n",
        "\n",
        "fuji_volumes = np.random.normal(size=int(fuji_dict[\"apple_ratio\"] * total_records),\n",
        "                                scale=np.sqrt(fuji_dict[\"volume_variance\"]),\n",
        "                                loc=fuji_dict[\"volume_mean\"])\n",
        "fuji_volumes\n"
      ]
    },
    {
      "cell_type": "markdown",
      "metadata": {
        "id": "9iaTkk3zUT-1"
      },
      "source": [
        "**Simulate Red Apples**\n",
        "\n",
        "\n",
        "1. Red apple weights are distributed according to triangular distribution with minimum weight of 100g, maximum weight of 190 g and the most frequent weight being 170g\n",
        "2. Red apple volumes are normally distributed with mean of 150cc and standard deviation of 5cc"
      ]
    },
    {
      "cell_type": "code",
      "execution_count": null,
      "metadata": {
        "id": "icEryCSjUT-1"
      },
      "outputs": [],
      "source": [
        "red_weights = np.random.triangular(100, 170, 190, 15)\n",
        "red_volumes = np.random.normal(size=int(0.15 * total_records), scale=5, loc=150)\n"
      ]
    },
    {
      "cell_type": "markdown",
      "metadata": {
        "id": "R1hBVjGFUT-1"
      },
      "source": [
        "8. A pesticide Quinalphos was dissolved in water and sprayed at the rate of 500 gm per 100 apples. The spray was unequal and had a variance of 4 milligram per apple. This pestiside dosage is common to all three apple types. This data will be used to populate \"pesticide per apple\" feature"
      ]
    },
    {
      "cell_type": "code",
      "execution_count": null,
      "metadata": {
        "colab": {
          "base_uri": "https://localhost:8080/"
        },
        "id": "2AUSc3CFUT-1",
        "outputId": "e04233b5-2e13-4b84-c786-a65a2a32cd17"
      },
      "outputs": [
        {
          "output_type": "stream",
          "name": "stdout",
          "text": [
            "[ 9.36574959e-01  4.25918518e+00  3.71426220e+00  5.12231777e+00\n",
            " -5.17802473e-03  1.49507503e+00  3.06235912e+00  6.48758300e-01\n",
            "  3.78337487e+00  4.94925417e+00  1.33328406e+00  2.57718388e+00\n",
            "  5.41123738e+00  6.09854315e+00  3.99160250e+00  3.68685835e+00\n",
            "  7.92526931e-01  3.21841880e+00  3.61364168e+00  2.07925968e+00\n",
            "  1.31044749e+00 -6.25953470e-02 -9.75459510e-01 -1.39576703e+00\n",
            "  3.65888515e+00  2.79539865e+00  1.53237774e+00  1.83708740e+00\n",
            "  2.92094108e+00  2.17087386e+00 -1.81106360e-01  4.32600044e+00\n",
            "  3.10825234e+00  3.03179696e+00  4.17512541e+00  8.72709288e-01\n",
            "  4.92746288e+00  2.21991430e+00  4.27719776e+00  3.96889807e+00\n",
            "  4.22396344e-01  3.50580081e+00  3.15254934e+00  2.56062331e+00\n",
            "  2.31125650e+00  2.32821350e+00  4.12537885e+00  3.65582103e+00\n",
            "  2.56095770e+00 -4.83872293e-01  3.48888683e+00  3.94722724e+00\n",
            "  7.10082017e+00  4.65086613e+00 -1.29835278e+00  2.65685880e+00\n",
            "  6.12275006e+00  3.74709771e+00  3.15730432e+00  4.30045732e+00\n",
            "  1.25524361e+00  3.45617999e+00  1.99906392e+00  2.46075303e+00\n",
            "  4.15690903e+00  6.46573795e-01  5.07596495e+00  1.65437608e+00\n",
            "  3.02132567e+00 -3.01015921e-01  3.93967458e+00  5.39300787e+00\n",
            "  1.47071690e+00  2.79553227e-01  3.05596613e+00  5.40962129e+00\n",
            " -3.99713131e-01  2.87383638e-01  1.59162088e+00  8.59312351e-01\n",
            "  8.65629067e-01 -1.68824126e+00  3.67811389e+00  3.17744101e+00\n",
            " -8.97698400e-01  5.41439152e+00  5.86218463e+00  9.98188900e-01\n",
            "  4.83309718e+00  1.35400439e+00  2.86223302e+00  8.28475730e-01\n",
            "  6.92850305e+00  1.90796555e+00  2.75289805e+00  1.12412523e+00\n",
            "  6.22263119e+00  6.27322929e+00  5.76185836e+00  4.41288070e+00\n",
            "  1.25042091e+00  4.15570019e+00  2.48591440e+00  5.12481724e+00\n",
            "  4.73180411e+00  1.20146884e+00  4.39565161e+00  3.86406890e+00\n",
            " -3.04712573e+00  4.10187328e+00  1.63640842e+00  7.27915091e-01\n",
            "  8.13478791e-01  2.22951421e+00  3.46011916e+00 -2.30924044e-01\n",
            "  2.87969567e+00  3.65351613e+00  6.22361157e+00  3.46619662e-01\n",
            "  1.80077563e+00  3.02332595e+00  4.79481866e+00  1.89155224e+00\n",
            "  4.89728274e+00 -1.37472463e+00 -6.69638624e-03  3.19728869e+00\n",
            " -3.21648996e-01  1.51058946e-01  1.44444627e+00  4.04287798e+00\n",
            " -1.29192968e+00  2.84059672e+00  4.56592789e+00  2.11010958e+00\n",
            "  1.76233954e+00  3.30354257e+00  2.11577789e+00  5.28099956e+00\n",
            "  2.77173976e-01  2.39671169e+00  2.91137275e+00  1.74309190e+00\n",
            " -3.24256533e+00  2.17819018e+00  4.30035397e+00  4.05621837e+00\n",
            "  3.20955696e+00  3.04275283e-01  3.29061892e+00  1.35312436e+00\n",
            "  3.20696581e+00  2.74301002e+00  5.47249457e-01  7.15088321e-01\n",
            "  3.21004491e+00  2.05777381e+00  8.19437139e-01  6.54339621e-01\n",
            "  1.89233830e+00  5.63620959e+00  1.44784394e+00  2.47196092e+00\n",
            "  2.70328858e+00  2.37947217e-01 -1.02566497e+00  4.46718531e-01\n",
            "  2.99415476e+00  2.67466212e+00  3.90481314e+00  2.69349979e+00\n",
            "  2.28090142e+00  1.29197545e+00  4.26921358e+00  6.61639723e-01\n",
            "  2.79200965e-01  3.63411103e+00 -1.66314621e-01  7.32958200e+00\n",
            "  2.65998676e+00  3.19581223e+00  8.83160351e-01  1.86947031e+00\n",
            "  1.64648577e+00  1.41633002e+00  3.76592350e+00  1.60084792e+00\n",
            "  4.53500246e+00  7.82636470e+00  1.90891752e+00  2.80463103e+00\n",
            "  3.25896411e+00  6.12300963e+00  2.33470443e+00  8.41966161e-01\n",
            " -3.26810113e-02  2.38403211e+00  1.60323956e+00  6.52001858e+00]\n"
          ]
        }
      ],
      "source": [
        "#pesticide_per_apple = np.random.normal(50/total_records, 3, total_records)\n",
        "\n",
        "from scipy import stats\n",
        "pesticide_per_apple_distribution = stats.norm(\n",
        "    loc=500/total_records,\n",
        "    scale=np.sqrt(4)\n",
        ")\n",
        "pesticide_per_apple = pesticide_per_apple_distribution.rvs(size=total_records)\n",
        "print(pesticide_per_apple)\n"
      ]
    },
    {
      "cell_type": "code",
      "execution_count": null,
      "metadata": {
        "colab": {
          "base_uri": "https://localhost:8080/"
        },
        "id": "ZO-DZsyDUT-2",
        "outputId": "8a1e9741-73cf-482a-aee2-ed5c8b2e03c3"
      },
      "outputs": [
        {
          "output_type": "stream",
          "name": "stdout",
          "text": [
            "[0.21719177086763092, 0.8104599722057428, 0.7281180440430972, 0.905097955308739, 0.1051776578122654, 0.3076711168406513, 0.6107136602444616, 0.17732152706406423, 0.7394619261046953, 0.8896421213677164, 0.2798261720105742, 0.5153921358627305, 0.9272509707939554, 0.964012133906053, 0.7721062579441389, 0.7235530150533623, 0.19662549310429484, 0.6402807776232363, 0.711175078390694, 0.41668939076319034, 0.27599652103001315, 0.10004456488367514, 0.04112922158853924, 0.0257144514686913, 0.7188547074752253, 0.5587099679063765, 0.3142599571659821, 0.37014992317171314, 0.5833497794139613, 0.43464394995865535, 0.09003278358265221, 0.8193787871548741, 0.6194841153620719, 0.6048413020507819, 0.798861826460251, 0.2079240733036568, 0.8875748523587745, 0.4443130665104994, 0.8128906534794322, 0.7686624441060514, 0.1494484555170002, 0.6924828517814502, 0.6278917248507586, 0.5120907502451986, 0.4624069279192657, 0.46577563881270356, 0.7918019272804578, 0.7183377316872731, 0.5121574197064586, 0.06785794279499714, 0.6895034700458621, 0.7653485110785554, 0.9892875010073304, 0.858909557165951, 0.02877064409407947, 0.5312567557421525, 0.9649585906424575, 0.7335380465764839, 0.6287906911091715, 0.8160007111572337, 0.2668466074347434, 0.6837069241878297, 0.4011127091556416, 0.49217186423588116, 0.7962934281239782, 0.17703775640256914, 0.9011239679332007, 0.33621623005781776, 0.6028237348785825, 0.08068063066927772, 0.7641874090764746, 0.9259820455712462, 0.3034017626160608, 0.13345138876312096, 0.6094873205109512, 0.9271391548129241, 0.07354926084568185, 0.13429657595386563, 0.3248461988993005, 0.2060100649094776, 0.20691122334285977, 0.0181246179879056, 0.722088463653965, 0.6325898531405321, 0.04467380037050391, 0.9274688246548906, 0.9536275075491326, 0.2263547500597507, 0.8783036426486852, 0.2833230900953292, 0.5718619371823723, 0.2016443660548276, 0.9865942593391908, 0.3836084625846952, 0.5503117505298638, 0.24574610562005078, 0.9686501890848119, 0.9703939123056844, 0.9485473682477088, 0.830575095954738, 0.26605459607234905, 0.7961223000546804, 0.4971903529634681, 0.9053088503031002, 0.8677679686083061, 0.258083365391459, 0.8283909287934283, 0.752391416235821, 0.0027723063400374747, 0.7884158363331346, 0.3329449203082941, 0.1877973252311368, 0.19954135530574357, 0.44620991640593227, 0.6844074858397394, 0.08605394086226448, 0.5752858151926417, 0.7179485496116633, 0.9686847645103133, 0.14080935286162954, 0.3633148818654821, 0.6032093551808065, 0.8743937565577824, 0.3804786660136408, 0.8846662880640476, 0.02635053482226436, 0.10503950834149828, 0.6363218339269979, 0.07914818453224426, 0.12010330528524088, 0.29882710838094056, 0.7797766146013333, 0.028982346887926932, 0.5676122503734782, 0.8491896145598956, 0.42271792093723626, 0.3561271354224967, 0.6560738207151027, 0.4238276086749918, 0.9178114171535771, 0.13319530697450244, 0.4794061177639668, 0.5814820488976913, 0.3525466605725185, 0.0020440489520716634, 0.436084148307052, 0.8159869645092979, 0.7817476761557849, 0.6386222250686557, 0.13613229842078028, 0.6536927415480953, 0.28317414399862095, 0.6381367791127016, 0.548354477204852, 0.16443926563988104, 0.1860743263602535, 0.638713615317681, 0.4125021870186888, 0.20037530524358454, 0.1780478526914333, 0.38062838186776277, 0.9415716611199453, 0.2994169956015824, 0.49440719664648486, 0.5404804875113521, 0.12902199177510154, 0.03896437347918318, 0.15229483273313332, 0.597575829520911, 0.5347958161625906, 0.7587871751363665, 0.538537492396528, 0.4563834140247074, 0.27291774063146623, 0.8118156283347622, 0.17900067892143406, 0.13341345306655472, 0.7146617683288106, 0.09124009260661287, 0.9921278795375362, 0.5318787396754332, 0.6360446541357717, 0.2094244716968064, 0.37628028758911336, 0.33477812196006673, 0.2939660931737697, 0.7366206896959253, 0.32650808451564906, 0.8455424760631374, 0.996129727247937, 0.3837902266876507, 0.5605309551908787, 0.6478350370213819, 0.9649686276112425, 0.46706580212563825, 0.2035474165839456, 0.10269560053059257, 0.4768807075525735, 0.3269394076184935, 0.9777848971485614]\n"
          ]
        }
      ],
      "source": [
        "discoloration = [pesticide_per_apple_distribution.cdf(rec) for rec in pesticide_per_apple]\n",
        "print(discoloration)"
      ]
    },
    {
      "cell_type": "code",
      "execution_count": null,
      "metadata": {
        "colab": {
          "base_uri": "https://localhost:8080/"
        },
        "id": "iiUu-l8IUT-2",
        "outputId": "947869ea-c53e-40c2-928a-a7a90ba3d674"
      },
      "outputs": [
        {
          "output_type": "stream",
          "name": "stdout",
          "text": [
            "[21, 81, 72, 90, 10, 30, 61, 17, 73, 88, 27, 51, 92, 96, 77, 72, 19, 64, 71, 41, 27, 10, 4, 2, 71, 55, 31, 37, 58, 43, 9, 81, 61, 60, 79, 20, 88, 44, 81, 76, 14, 69, 62, 51, 46, 46, 79, 71, 51, 6, 68, 76, 98, 85, 2, 53, 96, 73, 62, 81, 26, 68, 40, 49, 79, 17, 90, 33, 60, 8, 76, 92, 30, 13, 60, 92, 7, 13, 32, 20, 20, 1, 72, 63, 4, 92, 95, 22, 87, 28, 57, 20, 98, 38, 55, 24, 96, 97, 94, 83, 26, 79, 49, 90, 86, 25, 82, 75, 0, 78, 33, 18, 19, 44, 68, 8, 57, 71, 96, 14, 36, 60, 87, 38, 88, 2, 10, 63, 7, 12, 29, 77, 2, 56, 84, 42, 35, 65, 42, 91, 13, 47, 58, 35, 0, 43, 81, 78, 63, 13, 65, 28, 63, 54, 16, 18, 63, 41, 20, 17, 38, 94, 29, 49, 54, 12, 3, 15, 59, 53, 75, 53, 45, 27, 81, 17, 13, 71, 9, 99, 53, 63, 20, 37, 33, 29, 73, 32, 84, 99, 38, 56, 64, 96, 46, 20, 10, 47, 32, 97]\n"
          ]
        }
      ],
      "source": [
        "# Convert the discoloration into percentage and only integer precision\n",
        "discoloration = [int(pesticide_per_apple_distribution.cdf(rec) * 100) for rec in pesticide_per_apple]\n",
        "print(discoloration)\n",
        "\n"
      ]
    },
    {
      "cell_type": "markdown",
      "metadata": {
        "id": "0C1JCKIBUT-2"
      },
      "source": [
        "**Concatenate all features and target variables and make the dataframe**\n",
        "\n",
        "1. Be sure to line up the simulated records per the apple type and concatenate\n",
        "2. Display the final dataframe"
      ]
    },
    {
      "cell_type": "code",
      "execution_count": null,
      "metadata": {
        "colab": {
          "base_uri": "https://localhost:8080/"
        },
        "id": "Gxlu2pCBUT-3",
        "outputId": "2a35f9c6-af71-49c3-8834-60455f6c1b3c"
      },
      "outputs": [
        {
          "output_type": "stream",
          "name": "stdout",
          "text": [
            "         weight      volume  pesticide_per_apple  discoloration  \\\n",
            "0    153.594499  191.820436             2.079260             41   \n",
            "1    152.131500  198.454713             2.328214             46   \n",
            "2    156.824805  180.951795             5.281000             91   \n",
            "3    159.475966  181.518625            -0.181106              9   \n",
            "4    154.807458  179.147497             1.654376             33   \n",
            "..          ...         ...                  ...            ...   \n",
            "171  147.118039  185.876834             5.393008             92   \n",
            "172  153.391825  190.168884             4.395652             82   \n",
            "173  156.041914  188.606786             3.991603             77   \n",
            "174  152.661494  179.986974             6.928503             98   \n",
            "175  162.503799  182.823265             2.485914             49   \n",
            "\n",
            "    machine_plucked apple_type  \n",
            "0                No       Gala  \n",
            "1                No       Gala  \n",
            "2                No       Gala  \n",
            "3               Yes       Gala  \n",
            "4                No       Gala  \n",
            "..              ...        ...  \n",
            "171              No       Gala  \n",
            "172              No       Gala  \n",
            "173             Yes       Gala  \n",
            "174              No       Gala  \n",
            "175              No       Gala  \n",
            "\n",
            "[176 rows x 6 columns]\n"
          ]
        }
      ],
      "source": [
        "# Create dataframes for each apple type\n",
        "gala_data = pd.DataFrame({\n",
        "    'weight': gala_weights,\n",
        "    'volume': gala_volumes,\n",
        "    'pesticide_per_apple': pesticide_per_apple[:int(0.7 * total_records)],\n",
        "    'discoloration': discoloration[:int(0.7 * total_records)],\n",
        "    'machine_plucked': machine_plucked[:int(0.7 * total_records)],\n",
        "    'apple_type': ['Gala'] * int(0.7 * total_records)\n",
        "})\n",
        "\n",
        "fuji_data = pd.DataFrame({\n",
        "    'weight': fuji_weights,\n",
        "    'volume': fuji_volumes,\n",
        "    'pesticide_per_apple': pesticide_per_apple[int(0.7 * total_records):int(0.85 * total_records)],\n",
        "    'discoloration': discoloration[int(0.7 * total_records):int(0.85 * total_records)],\n",
        "    'machine_plucked': machine_plucked[int(0.7 * total_records):int(0.85 * total_records)],\n",
        "    'apple_type': ['Fuji'] * int(0.15 * total_records)\n",
        "})\n",
        "\n",
        "red_data = pd.DataFrame({\n",
        "    'weight': red_weights[:min_length],\n",
        "    'volume': red_volumes[:min_length],\n",
        "    'pesticide_per_apple': pesticide_per_apple[int(0.85 * total_records):][:min_length],\n",
        "    'discoloration': discoloration[int(0.85 * total_records):][:min_length],\n",
        "    'machine_plucked': machine_plucked[int(0.85 * total_records):][:min_length],\n",
        "    'apple_type': ['Red'] * min_length\n",
        "})\n",
        "\n",
        "# Concatenate dataframes\n",
        "apples_data = pd.concat([gala_data, fuji_data, red_data], ignore_index=True)\n",
        "apples_data\n",
        "\n",
        "# Shuffle the dataframe\n",
        "apples_data = apples_data.sample(frac=1, random_state=42).reset_index(drop=True)\n",
        "apples_data\n",
        "\n",
        "# Display the final dataframe\n",
        "print(apples_data)\n"
      ]
    },
    {
      "cell_type": "markdown",
      "metadata": {
        "id": "dM_ETfYPUT-3"
      },
      "source": [
        "---\n",
        "\n",
        "#### II. Introduce NaNs\n",
        "1. Randomly introduce NaN for weight and volume feature for 25% of the records such that the **fraction of NaN for each apple type is proportional to the ratio of samples**.\n",
        "2. Pesticide_per_apple data should be randomly nulled out for data beyond 75th percentile. Use the discoloration data (which is nothing but the percentile) to make this determination\n",
        "3. Randomly introduce NaN for machine plucked apples for 5% of records\n",
        "4. Randomly introduce NaN for apple type for 10% of records"
      ]
    },
    {
      "cell_type": "code",
      "execution_count": null,
      "metadata": {
        "colab": {
          "base_uri": "https://localhost:8080/"
        },
        "id": "L8CwKRDIUT-3",
        "outputId": "4564ea13-ef20-4677-ea06-26e792b0916f"
      },
      "outputs": [
        {
          "output_type": "stream",
          "name": "stdout",
          "text": [
            "         weight      volume  pesticide_per_apple  discoloration  \\\n",
            "0    153.594499  191.820436             2.079260             41   \n",
            "1    152.131500  198.454713             2.328214             46   \n",
            "2    156.824805  180.951795                  NaN             91   \n",
            "3    159.475966  181.518625            -0.181106              9   \n",
            "4           NaN         NaN             1.654376             33   \n",
            "..          ...         ...                  ...            ...   \n",
            "171         NaN         NaN                  NaN             92   \n",
            "172  153.391825  190.168884                  NaN             82   \n",
            "173         NaN         NaN                  NaN             77   \n",
            "174  152.661494  179.986974                  NaN             98   \n",
            "175         NaN         NaN             2.485914             49   \n",
            "\n",
            "    machine_plucked apple_type  \n",
            "0                No       Gala  \n",
            "1                No       Gala  \n",
            "2                No        NaN  \n",
            "3               Yes       Gala  \n",
            "4                No        NaN  \n",
            "..              ...        ...  \n",
            "171             NaN       Gala  \n",
            "172              No       Gala  \n",
            "173             Yes       Gala  \n",
            "174              No       Gala  \n",
            "175              No       Gala  \n",
            "\n",
            "[176 rows x 6 columns]\n"
          ]
        }
      ],
      "source": [
        "# Set random seed for reproducibility\n",
        "np.random.seed(42)\n",
        "\n",
        "# Introduce NaNs for weight and volume features\n",
        "nan_fraction = 0.25\n",
        "nan_mask = np.random.rand(len(apples_data)) < nan_fraction\n",
        "apples_data.loc[nan_mask, ['weight', 'volume']] = np.nan\n",
        "\n",
        "# Introduce NaNs for pesticide_per_apple beyond the 75th percentile\n",
        "nan_pesticide_mask = apples_data['discoloration'] > np.percentile(apples_data['discoloration'], 75)\n",
        "apples_data.loc[nan_pesticide_mask, 'pesticide_per_apple'] = np.nan\n",
        "\n",
        "# Introduce NaNs for machine_plucked apples\n",
        "nan_machine_plucked_fraction = 0.05\n",
        "nan_machine_plucked_mask = np.random.rand(len(apples_data)) < nan_machine_plucked_fraction\n",
        "apples_data.loc[nan_machine_plucked_mask, 'machine_plucked'] = np.nan\n",
        "\n",
        "# Introduce NaNs for apple_type\n",
        "nan_apple_type_fraction = 0.1\n",
        "nan_apple_type_mask = np.random.rand(len(apples_data)) < nan_apple_type_fraction\n",
        "apples_data.loc[nan_apple_type_mask, 'apple_type'] = np.nan\n",
        "\n",
        "# Display the final dataframe with NaNs introduced\n",
        "print(apples_data)\n"
      ]
    },
    {
      "cell_type": "code",
      "execution_count": null,
      "metadata": {
        "id": "GCGWVptdUT-3"
      },
      "outputs": [],
      "source": []
    },
    {
      "cell_type": "markdown",
      "metadata": {
        "id": "5GFcjvXkUT-3"
      },
      "source": [
        "---\n",
        "\n",
        "#### III Transform, Train/Test Split and Impute\n",
        "Ask yourself these questions and do accordingly:\n",
        "1. Will you do train test split before or after doing train test split?\n",
        "2. Will you do transformation after imputation or before?\n",
        "3. Will you do split before transformation?\n",
        "\n",
        "According to your choice do these three in the order you deem fit\n",
        "\n",
        "1. Impute the data for relevant columns using an appropriate imputation method fit for each scenario\n",
        "2. If there are any records that you feel should be deleted, then please do so\n",
        "3. Do a train test split 80:20 such that the fraction of NaN for each apple type is proportional to the ratio of samples of that apple type\n",
        "4. Do any other data transformation you feel is needed"
      ]
    },
    {
      "cell_type": "code",
      "source": [
        "from sklearn.model_selection import train_test_split\n",
        "from sklearn.impute import SimpleImputer\n",
        "from sklearn.preprocessing import StandardScaler\n",
        "\n",
        "# Identify numeric and non-numeric columns\n",
        "numeric_columns = apples_data.select_dtypes(include='number').columns\n",
        "non_numeric_columns = apples_data.select_dtypes(exclude='number').columns\n",
        "\n",
        "# Handle NaN values for numeric columns\n",
        "imputer_numeric = SimpleImputer(strategy='mean')\n",
        "apples_data[numeric_columns] = imputer_numeric.fit_transform(apples_data[numeric_columns])\n",
        "\n",
        "# Handle NaN values for non-numeric columns\n",
        "imputer_non_numeric = SimpleImputer(strategy='most_frequent')\n",
        "apples_data[non_numeric_columns] = imputer_non_numeric.fit_transform(apples_data[non_numeric_columns])\n",
        "\n",
        "# Perform transformations on numeric columns\n",
        "scaler = StandardScaler()\n",
        "apples_data[numeric_columns] = scaler.fit_transform(apples_data[numeric_columns])\n",
        "\n",
        "# Check for NaN values after transformation\n",
        "nan_check_after_transformation = apples_data.isnull().sum()\n",
        "\n",
        "# Display columns with NaN values after transformation, if any\n",
        "columns_with_nan_after_transformation = nan_check_after_transformation[nan_check_after_transformation > 0].index\n",
        "if not columns_with_nan_after_transformation.empty:\n",
        "    print(\"Columns with NaN values after transformation:\", columns_with_nan_after_transformation)\n",
        "    # Handle remaining NaN values or investigate further\n",
        "else:\n",
        "    print(\"No NaN values in the dataset after transformation.\")\n",
        "\n",
        "# Perform train-test split with stratification based on 'apple_type'\n",
        "X = apples_data.drop('apple_type', axis=1)\n",
        "y = apples_data['apple_type']\n",
        "\n",
        "# Check for NaN values in X before the split\n",
        "if X.isnull().values.any():\n",
        "    raise ValueError(\"Input data contains NaN values. Please handle missing values before splitting.\")\n",
        "\n",
        "# Perform train-test split with stratification based on 'apple_type'\n",
        "X_train, X_test, y_train, y_test = train_test_split(X, y, test_size=0.2, random_state=42, stratify=y)\n"
      ],
      "metadata": {
        "colab": {
          "base_uri": "https://localhost:8080/"
        },
        "id": "UJQZT40AkfR6",
        "outputId": "dd6dc6c0-40c2-48d3-9f30-6dfb6dfee95b"
      },
      "execution_count": null,
      "outputs": [
        {
          "output_type": "stream",
          "name": "stdout",
          "text": [
            "No NaN values in the dataset after transformation.\n"
          ]
        }
      ]
    },
    {
      "cell_type": "markdown",
      "metadata": {
        "id": "-5YyBGx7UT-3"
      },
      "source": [
        "---\n",
        "\n",
        "#### IV Feature Elimination and Feature Selection\n",
        "1. If there are any features that you can immediately drop without any exploration, programming then please do so first\n",
        "2. Check which features have highest predictive power wrt target variable\n",
        "3. Check features on which target is dependent. Use a mechanism that is different from previous method for this.\n",
        "4. Base on the above two checks, choose 2 features for predicting apple type\n"
      ]
    },
    {
      "cell_type": "code",
      "source": [
        "# Drop unnecessary features\n",
        "apples_data = apples_data.drop('discoloration', axis=1)\n"
      ],
      "metadata": {
        "id": "IXyROOmk0Aot"
      },
      "execution_count": null,
      "outputs": []
    },
    {
      "cell_type": "code",
      "execution_count": null,
      "metadata": {
        "colab": {
          "base_uri": "https://localhost:8080/"
        },
        "id": "rxHD7oa3UT-4",
        "outputId": "88d806c2-87b0-445a-b7a9-ee2fe900bc8f"
      },
      "outputs": [
        {
          "output_type": "stream",
          "name": "stdout",
          "text": [
            "Feature Importances:\n",
            "               Feature  Importance\n",
            "1               volume    0.388762\n",
            "0               weight    0.346090\n",
            "3        discoloration    0.121663\n",
            "2  pesticide_per_apple    0.121654\n",
            "4      machine_plucked    0.021830\n"
          ]
        }
      ],
      "source": [
        "from sklearn.ensemble import RandomForestClassifier\n",
        "\n",
        "# Create a RandomForestClassifier\n",
        "rf_classifier = RandomForestClassifier(random_state=42)\n",
        "\n",
        "# Fit the model\n",
        "rf_classifier.fit(X_encoded, y_encoded)\n",
        "\n",
        "# Get feature importances\n",
        "feature_importances = rf_classifier.feature_importances_\n",
        "\n",
        "# Display feature importances\n",
        "feature_importance_df = pd.DataFrame({'Feature': X_encoded.columns, 'Importance': feature_importances})\n",
        "feature_importance_df = feature_importance_df.sort_values(by='Importance', ascending=False)\n",
        "print(\"Feature Importances:\")\n",
        "print(feature_importance_df)\n"
      ]
    },
    {
      "cell_type": "code",
      "source": [
        "from sklearn.feature_selection import mutual_info_classif\n",
        "\n",
        "# Calculate mutual information between each feature and the target\n",
        "mutual_info = mutual_info_classif(X_encoded, y_encoded, discrete_features='auto', random_state=42)\n",
        "\n",
        "# Display mutual information scores\n",
        "mutual_info_df = pd.DataFrame({'Feature': X_encoded.columns, 'Mutual_Info': mutual_info})\n",
        "mutual_info_df = mutual_info_df.sort_values(by='Mutual_Info', ascending=False)\n",
        "print(\"\\nMutual Information Scores:\")\n",
        "print(mutual_info_df)\n"
      ],
      "metadata": {
        "colab": {
          "base_uri": "https://localhost:8080/"
        },
        "id": "zRv6xNkgpMjC",
        "outputId": "679e675e-bb0d-4fa5-8c9d-1f7fc9b95dd3"
      },
      "execution_count": null,
      "outputs": [
        {
          "output_type": "stream",
          "name": "stdout",
          "text": [
            "\n",
            "Mutual Information Scores:\n",
            "               Feature  Mutual_Info\n",
            "1               volume     0.389711\n",
            "0               weight     0.305178\n",
            "4      machine_plucked     0.145123\n",
            "2  pesticide_per_apple     0.012189\n",
            "3        discoloration     0.000180\n"
          ]
        }
      ]
    },
    {
      "cell_type": "code",
      "source": [
        "# For simplicity, let's choose the top 2 features from the feature importances\n",
        "selected_features = feature_importance_df['Feature'].head(2).tolist()\n",
        "print(\"\\nSelected Features for Predicting Apple Type:\")\n",
        "print(selected_features)\n"
      ],
      "metadata": {
        "colab": {
          "base_uri": "https://localhost:8080/"
        },
        "id": "JTZJ6akipQBa",
        "outputId": "06842496-7e3e-4e73-9333-2ada2e59b4f2"
      },
      "execution_count": null,
      "outputs": [
        {
          "output_type": "stream",
          "name": "stdout",
          "text": [
            "\n",
            "Selected Features for Predicting Apple Type:\n",
            "['volume', 'weight']\n"
          ]
        }
      ]
    },
    {
      "cell_type": "code",
      "source": [
        "import seaborn as sns\n",
        "import matplotlib.pyplot as plt\n",
        "\n",
        "# Plot a correlation heatmap for numeric features\n",
        "plt.figure(figsize=(10, 8))\n",
        "sns.heatmap(apples_data.corr(), annot=True, cmap='coolwarm', fmt='.2f', linewidths=0.5)\n",
        "plt.title('Correlation Heatmap')\n",
        "plt.show()\n"
      ],
      "metadata": {
        "colab": {
          "base_uri": "https://localhost:8080/",
          "height": 754
        },
        "id": "dWTUeghwsvLN",
        "outputId": "80ae8d8a-023d-4036-a1d9-c263b25d8525"
      },
      "execution_count": null,
      "outputs": [
        {
          "output_type": "stream",
          "name": "stderr",
          "text": [
            "<ipython-input-74-0417c39bfdca>:6: FutureWarning: The default value of numeric_only in DataFrame.corr is deprecated. In a future version, it will default to False. Select only valid columns or specify the value of numeric_only to silence this warning.\n",
            "  sns.heatmap(apples_data.corr(), annot=True, cmap='coolwarm', fmt='.2f', linewidths=0.5)\n"
          ]
        },
        {
          "output_type": "display_data",
          "data": {
            "text/plain": [
              "<Figure size 1000x800 with 2 Axes>"
            ],
            "image/png": "[encoded data removed]"
          },
          "metadata": {}
        }
      ]
    },
    {
      "cell_type": "markdown",
      "metadata": {
        "id": "E50kMKkLUT-4"
      },
      "source": [
        "---\n",
        "\n",
        "#### V ML Prediction\n",
        "1. Apply Logistic Regression to predict apple type\n",
        "2. Choose a  metric that you think is most suitable for this scenario"
      ]
    },
    {
      "cell_type": "code",
      "execution_count": null,
      "metadata": {
        "id": "3Ay3ldEpUT-4"
      },
      "outputs": [],
      "source": [
        "from sklearn.model_selection import train_test_split\n",
        "from sklearn.linear_model import LogisticRegression\n",
        "from sklearn.metrics import accuracy_score, classification_report, confusion_matrix\n"
      ]
    },
    {
      "cell_type": "code",
      "execution_count": null,
      "metadata": {
        "id": "KSV1PJqfUT-4"
      },
      "outputs": [],
      "source": [
        "# Perform train-test split with stratification based on 'apple_type'\n",
        "X_train, X_test, y_train, y_test = train_test_split(X_encoded, y_encoded, test_size=0.2, random_state=42, stratify=y_encoded)\n"
      ]
    },
    {
      "cell_type": "code",
      "source": [
        "# Create a Logistic Regression model\n",
        "logreg_model = LogisticRegression(random_state=42)\n",
        "\n",
        "# Fit the model on the training data\n",
        "logreg_model.fit(X_train, y_train)\n"
      ],
      "metadata": {
        "colab": {
          "base_uri": "https://localhost:8080/",
          "height": 75
        },
        "id": "le53bqF2qBSG",
        "outputId": "b3831eed-5daf-4fdf-b611-c7420b4b9813"
      },
      "execution_count": null,
      "outputs": [
        {
          "output_type": "execute_result",
          "data": {
            "text/plain": [
              "LogisticRegression(random_state=42)"
            ],
            "text/html": [
              "<style>#sk-container-id-2 {color: black;background-color: white;}#sk-container-id-2 pre{padding: 0;}#sk-container-id-2 div.sk-toggleable {background-color: white;}#sk-container-id-2 label.sk-toggleable__label {cursor: pointer;display: block;width: 100%;margin-bottom: 0;padding: 0.3em;box-sizing: border-box;text-align: center;}#sk-container-id-2 label.sk-toggleable__label-arrow:before {content: \"▸\";float: left;margin-right: 0.25em;color: #696969;}#sk-container-id-2 label.sk-toggleable__label-arrow:hover:before {color: black;}#sk-container-id-2 div.sk-estimator:hover label.sk-toggleable__label-arrow:before {color: black;}#sk-container-id-2 div.sk-toggleable__content {max-height: 0;max-width: 0;overflow: hidden;text-align: left;background-color: #f0f8ff;}#sk-container-id-2 div.sk-toggleable__content pre {margin: 0.2em;color: black;border-radius: 0.25em;background-color: #f0f8ff;}#sk-container-id-2 input.sk-toggleable__control:checked~div.sk-toggleable__content {max-height: 200px;max-width: 100%;overflow: auto;}#sk-container-id-2 input.sk-toggleable__control:checked~label.sk-toggleable__label-arrow:before {content: \"▾\";}#sk-container-id-2 div.sk-estimator input.sk-toggleable__control:checked~label.sk-toggleable__label {background-color: #d4ebff;}#sk-container-id-2 div.sk-label input.sk-toggleable__control:checked~label.sk-toggleable__label {background-color: #d4ebff;}#sk-container-id-2 input.sk-hidden--visually {border: 0;clip: rect(1px 1px 1px 1px);clip: rect(1px, 1px, 1px, 1px);height: 1px;margin: -1px;overflow: hidden;padding: 0;position: absolute;width: 1px;}#sk-container-id-2 div.sk-estimator {font-family: monospace;background-color: #f0f8ff;border: 1px dotted black;border-radius: 0.25em;box-sizing: border-box;margin-bottom: 0.5em;}#sk-container-id-2 div.sk-estimator:hover {background-color: #d4ebff;}#sk-container-id-2 div.sk-parallel-item::after {content: \"\";width: 100%;border-bottom: 1px solid gray;flex-grow: 1;}#sk-container-id-2 div.sk-label:hover label.sk-toggleable__label {background-color: #d4ebff;}#sk-container-id-2 div.sk-serial::before {content: \"\";position: absolute;border-left: 1px solid gray;box-sizing: border-box;top: 0;bottom: 0;left: 50%;z-index: 0;}#sk-container-id-2 div.sk-serial {display: flex;flex-direction: column;align-items: center;background-color: white;padding-right: 0.2em;padding-left: 0.2em;position: relative;}#sk-container-id-2 div.sk-item {position: relative;z-index: 1;}#sk-container-id-2 div.sk-parallel {display: flex;align-items: stretch;justify-content: center;background-color: white;position: relative;}#sk-container-id-2 div.sk-item::before, #sk-container-id-2 div.sk-parallel-item::before {content: \"\";position: absolute;border-left: 1px solid gray;box-sizing: border-box;top: 0;bottom: 0;left: 50%;z-index: -1;}#sk-container-id-2 div.sk-parallel-item {display: flex;flex-direction: column;z-index: 1;position: relative;background-color: white;}#sk-container-id-2 div.sk-parallel-item:first-child::after {align-self: flex-end;width: 50%;}#sk-container-id-2 div.sk-parallel-item:last-child::after {align-self: flex-start;width: 50%;}#sk-container-id-2 div.sk-parallel-item:only-child::after {width: 0;}#sk-container-id-2 div.sk-dashed-wrapped {border: 1px dashed gray;margin: 0 0.4em 0.5em 0.4em;box-sizing: border-box;padding-bottom: 0.4em;background-color: white;}#sk-container-id-2 div.sk-label label {font-family: monospace;font-weight: bold;display: inline-block;line-height: 1.2em;}#sk-container-id-2 div.sk-label-container {text-align: center;}#sk-container-id-2 div.sk-container {/* jupyter's `normalize.less` sets `[hidden] { display: none; }` but bootstrap.min.css set `[hidden] { display: none !important; }` so we also need the `!important` here to be able to override the default hidden behavior on the sphinx rendered scikit-learn.org. See: https://github.com/scikit-learn/scikit-learn/issues/21755 */display: inline-block !important;position: relative;}#sk-container-id-2 div.sk-text-repr-fallback {display: none;}</style><div id=\"sk-container-id-2\" class=\"sk-top-container\"><div class=\"sk-text-repr-fallback\"><pre>LogisticRegression(random_state=42)</pre><b>In a Jupyter environment, please rerun this cell to show the HTML representation or trust the notebook. <br />On GitHub, the HTML representation is unable to render, please try loading this page with nbviewer.org.</b></div><div class=\"sk-container\" hidden><div class=\"sk-item\"><div class=\"sk-estimator sk-toggleable\"><input class=\"sk-toggleable__control sk-hidden--visually\" id=\"sk-estimator-id-2\" type=\"checkbox\" checked><label for=\"sk-estimator-id-2\" class=\"sk-toggleable__label sk-toggleable__label-arrow\">LogisticRegression</label><div class=\"sk-toggleable__content\"><pre>LogisticRegression(random_state=42)</pre></div></div></div></div></div>"
            ]
          },
          "metadata": {},
          "execution_count": 77
        }
      ]
    },
    {
      "cell_type": "code",
      "source": [
        "# Make predictions on the test data\n",
        "y_pred = logreg_model.predict(X_test)\n",
        "y_pred\n"
      ],
      "metadata": {
        "colab": {
          "base_uri": "https://localhost:8080/"
        },
        "id": "_xyd9-aLqFPU",
        "outputId": "4b631e47-bfbf-4b65-de5d-d9a64a5cc39b"
      },
      "execution_count": null,
      "outputs": [
        {
          "output_type": "execute_result",
          "data": {
            "text/plain": [
              "array([1, 1, 1, 1, 1, 1, 1, 1, 1, 1, 0, 1, 1, 1, 1, 1, 0, 0, 1, 1, 0, 1,\n",
              "       1, 0, 1, 0, 1, 1, 1, 1, 1, 0, 1, 1, 1, 1])"
            ]
          },
          "metadata": {},
          "execution_count": 78
        }
      ]
    },
    {
      "cell_type": "code",
      "source": [
        "# Choose an appropriate evaluation metric (e.g., accuracy)\n",
        "accuracy = accuracy_score(y_test, y_pred)\n",
        "print(f\"Accuracy: {accuracy:.2f}\")\n",
        "\n",
        "# Display additional classification metrics\n",
        "print(\"\\nClassification Report:\")\n",
        "print(classification_report(y_test, y_pred))\n",
        "\n",
        "# Display the confusion matrix\n",
        "print(\"\\nConfusion Matrix:\")\n",
        "print(confusion_matrix(y_test, y_pred))\n"
      ],
      "metadata": {
        "colab": {
          "base_uri": "https://localhost:8080/"
        },
        "id": "xvzsdCrnqOd_",
        "outputId": "faec0623-4c73-4c2b-9514-3802bd935dc1"
      },
      "execution_count": null,
      "outputs": [
        {
          "output_type": "stream",
          "name": "stdout",
          "text": [
            "Accuracy: 0.94\n",
            "\n",
            "Classification Report:\n",
            "              precision    recall  f1-score   support\n",
            "\n",
            "           0       0.86      1.00      0.92         6\n",
            "           1       0.97      0.97      0.97        29\n",
            "           2       0.00      0.00      0.00         1\n",
            "\n",
            "    accuracy                           0.94        36\n",
            "   macro avg       0.61      0.66      0.63        36\n",
            "weighted avg       0.92      0.94      0.93        36\n",
            "\n",
            "\n",
            "Confusion Matrix:\n",
            "[[ 6  0  0]\n",
            " [ 1 28  0]\n",
            " [ 0  1  0]]\n"
          ]
        },
        {
          "output_type": "stream",
          "name": "stderr",
          "text": [
            "/usr/local/lib/python3.10/dist-packages/sklearn/metrics/_classification.py:1344: UndefinedMetricWarning: Precision and F-score are ill-defined and being set to 0.0 in labels with no predicted samples. Use `zero_division` parameter to control this behavior.\n",
            "  _warn_prf(average, modifier, msg_start, len(result))\n",
            "/usr/local/lib/python3.10/dist-packages/sklearn/metrics/_classification.py:1344: UndefinedMetricWarning: Precision and F-score are ill-defined and being set to 0.0 in labels with no predicted samples. Use `zero_division` parameter to control this behavior.\n",
            "  _warn_prf(average, modifier, msg_start, len(result))\n",
            "/usr/local/lib/python3.10/dist-packages/sklearn/metrics/_classification.py:1344: UndefinedMetricWarning: Precision and F-score are ill-defined and being set to 0.0 in labels with no predicted samples. Use `zero_division` parameter to control this behavior.\n",
            "  _warn_prf(average, modifier, msg_start, len(result))\n"
          ]
        }
      ]
    }
  ],
  "metadata": {
    "kernelspec": {
      "display_name": "quickstart",
      "language": "python",
      "name": "python3"
    },
    "language_info": {
      "codemirror_mode": {
        "name": "ipython",
        "version": 3
      },
      "file_extension": ".py",
      "mimetype": "text/x-python",
      "name": "python",
      "nbconvert_exporter": "python",
      "pygments_lexer": "ipython3",
      "version": "3.9.17"
    },
    "colab": {
      "provenance": []
    }
  },
  "nbformat": 4,
  "nbformat_minor": 0
}